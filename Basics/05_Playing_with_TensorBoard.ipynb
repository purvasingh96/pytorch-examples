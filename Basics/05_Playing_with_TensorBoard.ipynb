{
  "nbformat": 4,
  "nbformat_minor": 0,
  "metadata": {
    "colab": {
      "name": "05. Playing with TensorBoard.ipynb",
      "provenance": [],
      "authorship_tag": "ABX9TyOCuPpmmFhhLftBX+4XHqGH",
      "include_colab_link": true
    },
    "kernelspec": {
      "name": "python3",
      "display_name": "Python 3"
    }
  },
  "cells": [
    {
      "cell_type": "markdown",
      "metadata": {
        "id": "view-in-github",
        "colab_type": "text"
      },
      "source": [
        "<a href=\"https://colab.research.google.com/github/purvasingh96/pytorch-examples/blob/master/Basics/05_Playing_with_TensorBoard.ipynb\" target=\"_parent\"><img src=\"https://colab.research.google.com/assets/colab-badge.svg\" alt=\"Open In Colab\"/></a>"
      ]
    },
    {
      "cell_type": "markdown",
      "metadata": {
        "id": "prv56QIFx9Ok",
        "colab_type": "text"
      },
      "source": [
        "# Visualizing models, data and training with TensorBoard\n",
        "\n",
        "TensorBoard is a tool designed for visualizing the results of neural network training runs. \n",
        "\n",
        "This notebook will cover the following points -\n",
        "\n",
        "1. Read in data and with appropriate transforms.\n",
        "2. Set up TensorBoard.\n",
        "3. Write to TensorBoard.\n",
        "4. Inspect a model architecture using TensorBoard.\n",
        "5. Use TensorBoard to create interactive versions of the visualizations we created in last tutorial, with less code\n",
        "  * A couple of ways to inspect our training data\n",
        "  * How to track our model’s performance as it trains\n",
        "  * How to assess our model’s performance once it is trained."
      ]
    },
    {
      "cell_type": "code",
      "metadata": {
        "id": "bVP6bA2Tybrw",
        "colab_type": "code",
        "colab": {}
      },
      "source": [
        ""
      ],
      "execution_count": 0,
      "outputs": []
    }
  ]
}