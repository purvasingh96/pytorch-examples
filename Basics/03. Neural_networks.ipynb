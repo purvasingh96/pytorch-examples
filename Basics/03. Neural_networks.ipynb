{
  "nbformat": 4,
  "nbformat_minor": 0,
  "metadata": {
    "colab": {
      "name": "03. Neural_networks.ipynb",
      "provenance": [],
      "authorship_tag": "ABX9TyODIt3D2yiXZQr1CNanFfrm",
      "include_colab_link": true
    },
    "kernelspec": {
      "name": "python3",
      "display_name": "Python 3"
    }
  },
  "cells": [
    {
      "cell_type": "markdown",
      "metadata": {
        "id": "view-in-github",
        "colab_type": "text"
      },
      "source": [
        "<a href=\"https://colab.research.google.com/github/purvasingh96/pytorch-examples/blob/master/Basics/03.%20Neural_networks.ipynb\" target=\"_parent\"><img src=\"https://colab.research.google.com/assets/colab-badge.svg\" alt=\"Open In Colab\"/></a>"
      ]
    },
    {
      "cell_type": "markdown",
      "metadata": {
        "id": "FK2ayZGyMS7z",
        "colab_type": "text"
      },
      "source": [
        "# Neural Networks\n",
        "\n",
        "## Defining Neural Network\n",
        "* Neural networks can be constructed using the `torch.nn` package.\n",
        "* An `nn.Module` contains layers, and a method `forward(input)` that returns the `output.`\n",
        "\n",
        "## Training Neural Network\n",
        "A typical training procedure for a neural network is as follows:\n",
        "\n",
        "* Define the neural network that has some learnable parameters (or weights)\n",
        "* Iterate over a dataset of inputs\n",
        "* Process input through the network\n",
        "* Compute the loss (how far is the output from being correct)\n",
        "* Propagate gradients back into the network’s parameters\n",
        "* Update the weights of the network, typically using a simple update rule: `weight = weight - learning_rate * gradient`\n",
        "\n"
      ]
    },
    {
      "cell_type": "code",
      "metadata": {
        "id": "JINI2S6cM_PK",
        "colab_type": "code",
        "colab": {}
      },
      "source": [
        "# Network Definition\n",
        "import torch\n",
        "import torch.nn as nn\n",
        "import torch.nn.functional as F\n",
        "\n",
        "class Net(nn.Module):\n",
        "  def __init__(self):\n",
        "    super(Net, self).__init__()\n",
        "    self.conv1 = nn.Conv2d(1, 6, 3)\n",
        "    self.conv2 = nn.Conv2d(6, 16, 3)\n",
        "    self.fc1 = nn.Linear(16 * 6 * 6, 120)\n",
        "    self.fc2 = nn.Linear(120, 84)\n",
        "    self.fc3 = nn.Linear(84, 10)\n",
        "\n",
        "  def forward(self, x):\n",
        "    x = F.max_pool2d(F.relu(self.conv1(x)), 2)\n",
        "    x = F.max_pool2d(F.relu(self.conv2(x)), 2)\n",
        "    # before sending input to linear layers\n",
        "    # change the tensor's shape accordingly  \n",
        "    x = x.view(-1, self.num_flat_features(x))\n",
        "    x = F.relu(self.fc1(x))\n",
        "    x = F.relu(self.fc2(x))\n",
        "    x = self.fc3(x)\n",
        "    return x\n",
        "\n",
        "  def num_flat_features(self, x):\n",
        "    size = x.size()[1:] # all dimensions except batch dimension\n",
        "    num_features = 1\n",
        "    for s in size:\n",
        "      num_features *= s\n",
        "    return num_features\n"
      ],
      "execution_count": 0,
      "outputs": []
    },
    {
      "cell_type": "code",
      "metadata": {
        "id": "aYbkNtgINTEX",
        "colab_type": "code",
        "colab": {
          "base_uri": "https://localhost:8080/",
          "height": 136
        },
        "outputId": "6964b002-ea08-456f-ed22-a0a6f7463318"
      },
      "source": [
        "net = Net()\n",
        "print(net)"
      ],
      "execution_count": 3,
      "outputs": [
        {
          "output_type": "stream",
          "text": [
            "Net(\n",
            "  (conv1): Conv2d(1, 6, kernel_size=(3, 3), stride=(1, 1))\n",
            "  (conv2): Conv2d(6, 16, kernel_size=(3, 3), stride=(1, 1))\n",
            "  (fc1): Linear(in_features=576, out_features=120, bias=True)\n",
            "  (fc2): Linear(in_features=120, out_features=84, bias=True)\n",
            "  (fc3): Linear(in_features=84, out_features=10, bias=True)\n",
            ")\n"
          ],
          "name": "stdout"
        }
      ]
    },
    {
      "cell_type": "markdown",
      "metadata": {
        "id": "pCR802xrRQqs",
        "colab_type": "text"
      },
      "source": [
        "# Key points - I\n",
        "\n",
        "* We only need to define `forward` function.\n",
        "* `backward` function gets automatically defined using `autograd`\n",
        "* Learnable parameters of model are returned by `net.parameters()`"
      ]
    },
    {
      "cell_type": "code",
      "metadata": {
        "id": "GL7l7GaKRqN1",
        "colab_type": "code",
        "colab": {
          "base_uri": "https://localhost:8080/",
          "height": 51
        },
        "outputId": "34a0aebb-5c86-42f5-e3e8-e286d89337f5"
      },
      "source": [
        "params = list(net.parameters())\n",
        "print(len(params))\n",
        "# conv1's weights\n",
        "print(params[0].size())"
      ],
      "execution_count": 7,
      "outputs": [
        {
          "output_type": "stream",
          "text": [
            "10\n",
            "torch.Size([6, 1, 3, 3])\n"
          ],
          "name": "stdout"
        }
      ]
    },
    {
      "cell_type": "markdown",
      "metadata": {
        "id": "6ajEA0Y-TMr-",
        "colab_type": "text"
      },
      "source": [
        "# Key points - II\n",
        "* `torch.nn` supports only mini-batches.\n",
        "* `nn.Conv2d` will take 4D Tensor of `nSamples x nChannels x Height x Width.`\n",
        "* In case of single sample use `input.unsqueeze(0)` to add fake mini-batch."
      ]
    },
    {
      "cell_type": "markdown",
      "metadata": {
        "id": "Uc7RlLwsTzFt",
        "colab_type": "text"
      },
      "source": [
        "# Recap - I\n",
        "\n",
        "| PyTorch Module      | Comments                                                                              |\n",
        "|---------------------|---------------------------------------------------------------------------------------|\n",
        "| `torch.Tensor`      | multi-dimensional array supporting functions such as `backward`                       |\n",
        "| `nn.Module`         | Encapsulates parameters to move them to GPU etc.                                      |\n",
        "| `nn.Parameter`      | automatically registered as a parameter when assigned as an attribute to a  `Module`. |\n",
        "| `autograd.Function` | Implements `forward()` and `backward()` functions of neural network.                  |"
      ]
    },
    {
      "cell_type": "code",
      "metadata": {
        "id": "xetk8a_MU2wg",
        "colab_type": "code",
        "colab": {}
      },
      "source": [
        ""
      ],
      "execution_count": 0,
      "outputs": []
    }
  ]
}